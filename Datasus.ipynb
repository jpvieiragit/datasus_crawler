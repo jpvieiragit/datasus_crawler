{
 "cells": [
  {
   "cell_type": "code",
   "execution_count": 1,
   "metadata": {},
   "outputs": [],
   "source": [
    "import csv\n",
    "from time import sleep\n",
    "from selenium import webdriver\n",
    "from selenium.webdriver.support.ui import Select"
   ]
  },
  {
   "cell_type": "code",
   "execution_count": 2,
   "metadata": {},
   "outputs": [],
   "source": [
    "def get_input_by_(label):\n",
    "    template = \"//label[text()='{0}']/../input\".format(label)\n",
    "    input = driver.find_element_by_xpath(template)\n",
    "    attribute = input.get_attribute('value')\n",
    "    return attribute\n",
    "\n",
    "def set_option_by_(text):\n",
    "    template = \"//select[option='{0}']\".format(text)\n",
    "    select = Select(driver.find_element_by_xpath(template))\n",
    "    select.select_by_visible_text(text)\n",
    "\n",
    "def click_button_by_(text):\n",
    "    template = \"//button[text()='{0}']\".format(text)\n",
    "    driver.find_element_by_xpath(template).click()\n",
    "    sleep(1)"
   ]
  },
  {
   "cell_type": "code",
   "execution_count": 3,
   "metadata": {},
   "outputs": [],
   "source": [
    "path = './chromedriver'\n",
    "options = webdriver.ChromeOptions()\n",
    "options.add_argument('headless')\n",
    "options.add_argument('window-size=1920x1080')\n",
    "# initialize the driver\n",
    "driver = webdriver.Chrome(path, chrome_options=options)\n",
    "driver.implicitly_wait(10)\n",
    "driver.get('http://cnes.datasus.gov.br/pages/estabelecimentos/consulta.jsp')"
   ]
  },
  {
   "cell_type": "code",
   "execution_count": 4,
   "metadata": {},
   "outputs": [],
   "source": [
    "set_option_by_(text=\"ACRE\")\n",
    "set_option_by_(text=\"CAPIXABA\")\n",
    "click_button_by_(text=\"Pesquisar\")"
   ]
  },
  {
   "cell_type": "code",
   "execution_count": 5,
   "metadata": {},
   "outputs": [],
   "source": [
    "info = []\n",
    "fieldnames = [\n",
    "    'nome', \n",
    "    'cnes', \n",
    "    'cnpj', \n",
    "    'empresarial', \n",
    "    'logradouro', \n",
    "    'numero', \n",
    "    'complemento', \n",
    "    'bairro', \n",
    "    'municipio', \n",
    "    'uf', \n",
    "    'cep', \n",
    "    'telefone',\n",
    "]"
   ]
  },
  {
   "cell_type": "code",
   "execution_count": 6,
   "metadata": {},
   "outputs": [],
   "source": [
    "estabelecimentos = driver.find_elements_by_xpath(\"//button[@title='Informações estabelecimento']\")"
   ]
  },
  {
   "cell_type": "code",
   "execution_count": 7,
   "metadata": {},
   "outputs": [],
   "source": [
    "for estabelecimento in estabelecimentos:\n",
    "    estabelecimento.click()\n",
    "    sleep(1)\n",
    "    zipped = zip(\n",
    "        fieldnames,[\n",
    "            get_input_by_(label=\"Nome\"),\n",
    "            get_input_by_(label=\"CNES\"),\n",
    "            get_input_by_(label=\"CNPJ\"),\n",
    "            get_input_by_(label=\"Nome Empresarial\"),\n",
    "            get_input_by_(label=\"Logradouro\"),\n",
    "            get_input_by_(label=\"Número\"),\n",
    "            get_input_by_(label=\"Complemento\"),\n",
    "            get_input_by_(label=\"Bairro\"),\n",
    "            get_input_by_(label=\"Município\"),\n",
    "            get_input_by_(label=\"UF\"),\n",
    "            get_input_by_(label=\"CEP\"),\n",
    "            get_input_by_(label=\"Telefone\"),\n",
    "        ]\n",
    "    )\n",
    "    info.append({x:y for x,y in zipped})\n",
    "    click_button_by_(text=\"Fechar\")"
   ]
  },
  {
   "cell_type": "code",
   "execution_count": 8,
   "metadata": {},
   "outputs": [],
   "source": [
    "with open('Datasus.csv', 'w') as csvfile:\n",
    "    writer = csv.DictWriter(csvfile, fieldnames=fieldnames)\n",
    "    writer.writeheader()\n",
    "    \n",
    "    for el in info:\n",
    "        writer.writerow(el)"
   ]
  },
  {
   "cell_type": "code",
   "execution_count": 9,
   "metadata": {},
   "outputs": [],
   "source": [
    "driver.quit()"
   ]
  },
  {
   "cell_type": "code",
   "execution_count": null,
   "metadata": {},
   "outputs": [],
   "source": []
  }
 ],
 "metadata": {
  "kernelspec": {
   "display_name": "Python 3",
   "language": "python",
   "name": "python3"
  },
  "language_info": {
   "codemirror_mode": {
    "name": "ipython",
    "version": 3
   },
   "file_extension": ".py",
   "mimetype": "text/x-python",
   "name": "python",
   "nbconvert_exporter": "python",
   "pygments_lexer": "ipython3",
   "version": "3.6.4"
  }
 },
 "nbformat": 4,
 "nbformat_minor": 2
}
